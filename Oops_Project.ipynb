{
  "nbformat": 4,
  "nbformat_minor": 0,
  "metadata": {
    "colab": {
      "provenance": []
    },
    "kernelspec": {
      "name": "python3",
      "display_name": "Python 3"
    },
    "language_info": {
      "name": "python"
    }
  },
  "cells": [
    {
      "cell_type": "markdown",
      "source": [
        "# **Create Oops projects based on real life Atm**"
      ],
      "metadata": {
        "id": "rOl110ymFHku"
      }
    },
    {
      "cell_type": "code",
      "source": [
        "class atm:\n",
        "  def __init__(self):\n",
        "    self.pin=\"\"\n",
        "    self.balance=0\n",
        "\n",
        "  def menu(self):\n",
        "    user_input=input(\"\"\"\n",
        "   1.Press 1 to create pin\n",
        "   2.Press 2 to change pin\n",
        "   3.Press 3 to check balance\n",
        "   4.Press 4 to Withdra \n",
        "   5.Press Anything to exis\n",
        "    \"\"\")\n",
        "    if user_input==\"1\":\n",
        "      self.create_pin()\n",
        "    elif user_input==\"2\":\n",
        "      self.change_pin()\n",
        "    elif user_input==\"3\":\n",
        "      self.check_balance()\n",
        "    elif user_input==\"4\":\n",
        "      self.withdra()\n",
        "    else:\n",
        "      exit()\n",
        "\n",
        "  def create_pin(self):\n",
        "    pin=input(\"Enter the pin: \")\n",
        "    self.pin=pin\n",
        "    balance=int(input(\"Enter the balance\"))\n",
        "    self.balance=balance\n",
        "    print(\"Pin succesfully created\")\n",
        "    self.menu()\n",
        "\n",
        "  def change_pin(self):\n",
        "    old_pin=input(\"Enter the old pin \")\n",
        "    if old_pin == self.pin:\n",
        "      new_pin = input(\"Enter the new pin\")\n",
        "      self.pin=new_pin\n",
        "    else:\n",
        "      print(\"Incorrect pin \")\n",
        "    self.menu()\n",
        "\n",
        "  def check_balance(self):\n",
        "    user=input(\"Enter the pin\")\n",
        "    if user==self.pin:\n",
        "      print(\"You'r balance is\",self.balance)\n",
        "    else:\n",
        "      print(\"Enter the correct pin\")\n",
        "    self.menu()\n",
        "\n",
        "  def withdra(self):\n",
        "    user=input(\"Enter the pin\")\n",
        "    if user==self.pin:\n",
        "      amount=int(input(\"Enter the amount: \"))\n",
        "      if amount <= self.balance:\n",
        "        self.balance=self.balance-amount\n",
        "      else:\n",
        "        print(\"Insufficient balance\")\n",
        "    else:\n",
        "      print(\"Incorrect balance\")\n",
        "      self.menu()"
      ],
      "metadata": {
        "id": "7S_21WaO3ZWb"
      },
      "execution_count": 1,
      "outputs": []
    },
    {
      "cell_type": "code",
      "source": [
        "at=atm()"
      ],
      "metadata": {
        "id": "HiV0WKSPEmHY"
      },
      "execution_count": 2,
      "outputs": []
    },
    {
      "cell_type": "code",
      "source": [
        "at.check_balance()"
      ],
      "metadata": {
        "colab": {
          "base_uri": "https://localhost:8080/"
        },
        "id": "czc0Cl50ExoO",
        "outputId": "ab20df98-fb3d-41f7-f334-334c46c94e52"
      },
      "execution_count": 3,
      "outputs": [
        {
          "name": "stdout",
          "output_type": "stream",
          "text": [
            "Enter the pin123\n",
            "Enter the correct pin\n",
            "\n",
            "   1.Press 1 to create pin\n",
            "   2.Press 2 to change pin\n",
            "   3.Press 3 to check balance\n",
            "   4.Press 4 to Withdra \n",
            "   5.Press Anything to exis\n",
            "    1\n",
            "Enter the pin: 123\n",
            "Enter the balance1000\n",
            "Pin succesfully created\n",
            "\n",
            "   1.Press 1 to create pin\n",
            "   2.Press 2 to change pin\n",
            "   3.Press 3 to check balance\n",
            "   4.Press 4 to Withdra \n",
            "   5.Press Anything to exis\n",
            "    3\n",
            "Enter the pin123\n",
            "You'r balance is 1000\n",
            "\n",
            "   1.Press 1 to create pin\n",
            "   2.Press 2 to change pin\n",
            "   3.Press 3 to check balance\n",
            "   4.Press 4 to Withdra \n",
            "   5.Press Anything to exis\n",
            "    2\n",
            "Enter the old pin 1234\n",
            "Incorrect pin \n",
            "\n",
            "   1.Press 1 to create pin\n",
            "   2.Press 2 to change pin\n",
            "   3.Press 3 to check balance\n",
            "   4.Press 4 to Withdra \n",
            "   5.Press Anything to exis\n",
            "    2\n",
            "Enter the old pin 123\n",
            "Enter the new pin14789632\n",
            "\n",
            "   1.Press 1 to create pin\n",
            "   2.Press 2 to change pin\n",
            "   3.Press 3 to check balance\n",
            "   4.Press 4 to Withdra \n",
            "   5.Press Anything to exis\n",
            "    9\n"
          ]
        }
      ]
    },
    {
      "cell_type": "code",
      "source": [],
      "metadata": {
        "id": "aDSrlZ2WE1Ok"
      },
      "execution_count": null,
      "outputs": []
    }
  ]
}